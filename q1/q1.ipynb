{
 "cells": [
  {
   "cell_type": "code",
   "execution_count": 2000,
   "metadata": {},
   "outputs": [],
   "source": [
    "import cv2\n",
    "import matplotlib.pyplot as plt\n",
    "import numpy as np"
   ]
  },
  {
   "cell_type": "code",
   "execution_count": null,
   "metadata": {},
   "outputs": [],
   "source": [
    "def identifica_bandeira(img):\n",
    "\n",
    "    hsv = cv2.cvtColor(img, cv2.COLOR_BGR2HSV)\n",
    "\n",
    "    bandeiras = {\n",
    "\n",
    "        \"monaco\" : [\n",
    "            (np.array([0, 0, 100]), np.array([10, 10, 255])),  # Vermelho claro\n",
    "            (np.array([175, 200, 180]), np.array([180, 255, 200])),  # Vermelho escuro\n",
    "            (np.array([0, 100, 100]), np.array([180, 110, 170])) # Branco\n",
    "        ],\n",
    "\n",
    "        \"peru\" : [\n",
    "            (np.array([0, 0, 100]), np.array([30, 10, 255])),  # Vermelho claro\n",
    "            (np.array([170, 100, 200]), np.array([180, 255, 230])),  # Vermelho escuro\n",
    "            (np.array([20, 80, 210]), np.array([180, 90, 255])) # Branco\n",
    "        ],\n",
    "        \n",
    "        \"singapura\": [\n",
    "            (np.array([0, 200, 200]), np.array([10, 255, 255])),  # Vermelho claro\n",
    "            (np.array([175, 200, 220]), np.array([180, 255, 255])),  # Vermelho escuro\n",
    "            (np.array([0, 0, 200]), np.array([180, 70, 255]))    # Branco\n",
    "        ],\n",
    "        \n",
    "        \"irlanda\": [\n",
    "            (np.array([30, 40, 70]), np.array([85, 255, 255])),  # Verde\n",
    "            (np.array([0, 0, 200]), np.array([180, 70, 255])),   # Branco\n",
    "            (np.array([10, 150, 150]), np.array([25, 255, 255])) # Laranja\n",
    "        ],\n",
    "\n",
    "        \"italia\": [\n",
    "            (np.array([35, 50, 50]), np.array([85, 255, 255])),  # Verde\n",
    "            (np.array([0, 0, 200]), np.array([180, 60, 255])),   # Branco\n",
    "            (np.array([175, 100, 120]), np.array([180, 255, 160])) # Vermelho escuro\n",
    "        ],\n",
    "        \n",
    "        \n",
    "    }\n",
    "\n",
    "    resultado = []\n",
    "    \n",
    "    for pais, intervalos in bandeiras.items():\n",
    "\n",
    "        mask_combined = np.zeros(hsv.shape[:2], dtype=np.uint8)  # Máscara inicial vazia\n",
    "    \n",
    "        for lower, upper in intervalos:\n",
    "\n",
    "            mask = cv2.inRange(hsv, lower, upper)\n",
    "            mask_combined += mask\n",
    "            \n",
    "        \n",
    "        # Encontrar contornos na máscara combinada\n",
    "        contornos, _ = cv2.findContours(mask_combined, cv2.RETR_EXTERNAL, cv2.CHAIN_APPROX_SIMPLE)\n",
    "        \n",
    "        if contornos:\n",
    "            # Encontrar o maior contorno\n",
    "            maior_contorno = max(contornos, key=cv2.contourArea)\n",
    "\n",
    "            # Obter o retângulo delimitador do maior contorno\n",
    "            x, y, w, h = cv2.boundingRect(maior_contorno)\n",
    "\n",
    "            if w > 20 and h > 20:  # Filtrar pequenos detalhes que podem ser considerados pelos contornos\n",
    "                resultado.append((pais, (x, y), (x + w, y + h)))\n",
    "\n",
    "\n",
    "    # Aplicar lógica para evitar sobreposição excessiva\n",
    "    for (pais1, (x1, y1), (x2, y2)) in resultado:\n",
    "        for (pais2, (x3, y3), (x4, y4)) in resultado:\n",
    "            \n",
    "          if pais1 != pais2:  # Evitar comparar o mesmo item com ele próprio\n",
    "                \n",
    "                # Verificar se as caixas de delimitação se sobrepõem\n",
    "                overlap = (x2 > x3 and x4 > x1 and y2 > y3 and y4 > y1)\n",
    "                \n",
    "                if overlap:\n",
    "                \n",
    "                    area1 = (x2 - x1) * (y2 - y1) \n",
    "                    area2 = (x4 - x3) * (y4 - y3) \n",
    "                           \n",
    "                    # Se a bandeira 1 for menor, a descarto\n",
    "                    if area1 < area2:\n",
    "                        if (pais1, (x1, y1), (x2, y2)) in resultado:\n",
    "                            # print(pais1, area1, pais2, area2)\n",
    "                            # print(\"MÁSCARAS QUE ESTÃO SOFRENDO SOBREPOSICAO -> \", pais1, \"e\", pais2)\n",
    "                            # print(\"MÁSCARA QUE SERÁ REMOVIDA -> \", pais1)\n",
    "                            resultado.remove((pais1, (x1, y1), (x2, y2)))\n",
    "                            # print(resultado)\n",
    "                            break\n",
    "\n",
    "\n",
    "                    # Se a bandeira 2 for menor, a descarto        \n",
    "                    else:\n",
    "                        if (pais2, (x3, y3), (x4, y4)) in resultado:\n",
    "                            # print(pais1, area1, pais2, area2)\n",
    "                            # print(\"MÁSCARAS QUE ESTÃO SOFRENDO SOBREPOSICAO -> \", pais1, \"e\", pais2)\n",
    "                            # print(\"MÁSCARA QUE SERÁ REMOVIDA -> \", pais2)\n",
    "                            resultado.remove((pais2, (x3, y3), (x4, y4)))\n",
    "                            # print(resultado)\n",
    "                            # break\n",
    "        \n",
    "\n",
    "    return resultado\n"
   ]
  },
  {
   "cell_type": "code",
   "execution_count": 2002,
   "metadata": {},
   "outputs": [],
   "source": [
    "## nao alterar essa função\n",
    "# Função para desenhar as bandeiras identificadas\n",
    "def draw_bandeiras(lista_bandeiras, bgr):\n",
    "    try:\n",
    "        for bandeira in lista_bandeiras:\n",
    "            cv2.rectangle(bgr, bandeira[1], bandeira[2], (255, 0, 0), 5)\n",
    "            cv2.putText(bgr, bandeira[0], bandeira[1], cv2.FONT_HERSHEY_SIMPLEX, 1, (255, 0, 0), 2, cv2.LINE_AA)\n",
    "        return bgr\n",
    "    except Exception as e:\n",
    "        return bgr"
   ]
  },
  {
   "cell_type": "code",
   "execution_count": null,
   "metadata": {},
   "outputs": [
    {
     "name": "stdout",
     "output_type": "stream",
     "text": [
      "[('peru', (768, 497), (1029, 671)), ('irlanda', (752, 114), (1018, 247)), ('italia', (84, 477), (348, 654))]\n"
     ]
    },
    {
     "data": {
      "image/png": "[encoded data removed]",
      "text/plain": [
       "<Figure size 640x480 with 1 Axes>"
      ]
     },
     "metadata": {},
     "output_type": "display_data"
    }
   ],
   "source": [
    "## Para testar a função identifica_bandeira\n",
    "\n",
    "# Você pode testar a função identifica_bandeira com as imagens de teste fornecidas\n",
    "# \n",
    "# img = cv2.imread('img/teste1.png')\n",
    "# img = cv2.imread('img/teste2.png')\n",
    "# img = cv2.imread('img/teste3.png')\n",
    "img = cv2.imread('img/teste4.png')\n",
    "\n",
    "# Chamar a função identifica_bandeira\n",
    "resultado = identifica_bandeira(img)\n",
    "\n",
    "# Imprimir o resultado da função identifica_bandeira \n",
    "print(resultado)\n",
    "\n",
    "# Desenhar as bandeiras na imagem\n",
    "bgr = draw_bandeiras(resultado, img)\n",
    "plt.imshow(cv2.cvtColor(bgr, cv2.COLOR_BGR2RGB))\n",
    "plt.show()\n",
    "\n",
    "\n"
   ]
  },
  {
   "cell_type": "code",
   "execution_count": null,
   "metadata": {},
   "outputs": [],
   "source": []
  }
 ],
 "metadata": {
  "kernelspec": {
   "display_name": "Python 3",
   "language": "python",
   "name": "python3"
  },
  "language_info": {
   "codemirror_mode": {
    "name": "ipython",
    "version": 3
   },
   "file_extension": ".py",
   "mimetype": "text/x-python",
   "name": "python",
   "nbconvert_exporter": "python",
   "pygments_lexer": "ipython3",
   "version": "3.12.2"
  }
 },
 "nbformat": 4,
 "nbformat_minor": 2
}
